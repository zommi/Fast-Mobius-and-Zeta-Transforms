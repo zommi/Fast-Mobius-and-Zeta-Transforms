{
 "cells": [
  {
   "cell_type": "code",
   "execution_count": 1,
   "id": "7b1716cc",
   "metadata": {},
   "outputs": [],
   "source": [
    "import scipy as sp\n",
    "import numpy as np\n",
    "import networkx as nx\n",
    "from poset import Poset"
   ]
  },
  {
   "cell_type": "code",
   "execution_count": 2,
   "id": "6b7b2e5c",
   "metadata": {},
   "outputs": [],
   "source": [
    "V = int(1e5)\n",
    "par = 10 # average out-degree\n",
    "\n",
    "p = par/V\n",
    "\n",
    "np.random.seed(0)\n",
    "x = np.random.rand(V)\n",
    "x = x*2 - 1\n",
    "\n",
    "G  = nx.fast_gnp_random_graph(V,p,directed=True)\n",
    "\n",
    "for v in G:\n",
    "    for n in list(G[v]):\n",
    "        if n <= v:\n",
    "            G.remove_edge(v,n)"
   ]
  },
  {
   "cell_type": "code",
   "execution_count": 3,
   "id": "9b1f0f24",
   "metadata": {},
   "outputs": [
    {
     "name": "stdout",
     "output_type": "stream",
     "text": [
      "Poset initialization\n",
      "Chain decomposition took 0.26 seconds\n",
      "NIV construction took 2.67 seconds\n",
      "Parallel prep took 0.87 seconds\n"
     ]
    }
   ],
   "source": [
    "P = Poset(G, verbose=True, use_nx_matching=False)"
   ]
  },
  {
   "cell_type": "code",
   "execution_count": null,
   "id": "3f4021dc",
   "metadata": {},
   "outputs": [],
   "source": [
    "# single-threaded version\n",
    "my_y = P.zeta(x)\n",
    "my_y1sp = P.mobius(my_y)\n",
    "assert(np.allclose(x, my_y1sp)) # check mobius(zeta(x)) == x\n",
    "\n",
    "# parallel version\n",
    "my_ynp = P.zeta(x, parallel=True)\n",
    "my_y1sp = P.mobius(my_ynp, parallel=True)\n",
    "assert(np.allclose(my_y1sp, x)) # check mobius(zeta(x)) == x "
   ]
  }
 ],
 "metadata": {
  "kernelspec": {
   "display_name": "env",
   "language": "python",
   "name": "python3"
  },
  "language_info": {
   "codemirror_mode": {
    "name": "ipython",
    "version": 3
   },
   "file_extension": ".py",
   "mimetype": "text/x-python",
   "name": "python",
   "nbconvert_exporter": "python",
   "pygments_lexer": "ipython3",
   "version": "3.13.3"
  }
 },
 "nbformat": 4,
 "nbformat_minor": 5
}
